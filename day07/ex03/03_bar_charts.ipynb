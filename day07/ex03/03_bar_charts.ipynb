{
 "cells": [
  {
   "cell_type": "code",
   "execution_count": 168,
   "outputs": [],
   "source": [
    "import pandas as pd\n",
    "import sqlite3"
   ],
   "metadata": {
    "collapsed": false
   }
  },
  {
   "cell_type": "code",
   "execution_count": 169,
   "outputs": [],
   "source": [
    "base = sqlite3.connect(\"../data/checking-logs.sqlite.sqlite_copy\")"
   ],
   "metadata": {
    "collapsed": false
   }
  },
  {
   "cell_type": "markdown",
   "source": [
    "## analyze only the users and not the admins"
   ],
   "metadata": {
    "collapsed": false
   }
  },
  {
   "cell_type": "code",
   "execution_count": 170,
   "outputs": [
    {
     "data": {
      "text/plain": "         uid                  timestamp\n0     user_4 2020-04-17 05:19:02.744528\n1     user_4 2020-04-17 05:22:35.249331\n2     user_4 2020-04-17 05:22:45.549397\n3     user_4 2020-04-17 05:34:14.691200\n4     user_4 2020-04-17 05:34:24.422370\n...      ...                        ...\n3202  user_1 2020-05-21 20:19:06.872761\n3203  user_1 2020-05-21 20:22:41.785725\n3204  user_1 2020-05-21 20:22:41.877806\n3205  user_1 2020-05-21 20:37:00.129678\n3206  user_1 2020-05-21 20:37:00.290491\n\n[3207 rows x 2 columns]",
      "text/html": "<div>\n<style scoped>\n    .dataframe tbody tr th:only-of-type {\n        vertical-align: middle;\n    }\n\n    .dataframe tbody tr th {\n        vertical-align: top;\n    }\n\n    .dataframe thead th {\n        text-align: right;\n    }\n</style>\n<table border=\"1\" class=\"dataframe\">\n  <thead>\n    <tr style=\"text-align: right;\">\n      <th></th>\n      <th>uid</th>\n      <th>timestamp</th>\n    </tr>\n  </thead>\n  <tbody>\n    <tr>\n      <th>0</th>\n      <td>user_4</td>\n      <td>2020-04-17 05:19:02.744528</td>\n    </tr>\n    <tr>\n      <th>1</th>\n      <td>user_4</td>\n      <td>2020-04-17 05:22:35.249331</td>\n    </tr>\n    <tr>\n      <th>2</th>\n      <td>user_4</td>\n      <td>2020-04-17 05:22:45.549397</td>\n    </tr>\n    <tr>\n      <th>3</th>\n      <td>user_4</td>\n      <td>2020-04-17 05:34:14.691200</td>\n    </tr>\n    <tr>\n      <th>4</th>\n      <td>user_4</td>\n      <td>2020-04-17 05:34:24.422370</td>\n    </tr>\n    <tr>\n      <th>...</th>\n      <td>...</td>\n      <td>...</td>\n    </tr>\n    <tr>\n      <th>3202</th>\n      <td>user_1</td>\n      <td>2020-05-21 20:19:06.872761</td>\n    </tr>\n    <tr>\n      <th>3203</th>\n      <td>user_1</td>\n      <td>2020-05-21 20:22:41.785725</td>\n    </tr>\n    <tr>\n      <th>3204</th>\n      <td>user_1</td>\n      <td>2020-05-21 20:22:41.877806</td>\n    </tr>\n    <tr>\n      <th>3205</th>\n      <td>user_1</td>\n      <td>2020-05-21 20:37:00.129678</td>\n    </tr>\n    <tr>\n      <th>3206</th>\n      <td>user_1</td>\n      <td>2020-05-21 20:37:00.290491</td>\n    </tr>\n  </tbody>\n</table>\n<p>3207 rows × 2 columns</p>\n</div>"
     },
     "execution_count": 170,
     "metadata": {},
     "output_type": "execute_result"
    }
   ],
   "source": [
    "table = pd.io.sql.read_sql('''\n",
    "SELECT\n",
    "    uid, timestamp\n",
    "FROM\n",
    "    checker\n",
    "WHERE\n",
    "    uid LIKE 'user_%'\n",
    "''', base, parse_dates=['timestamp'])\n",
    "table"
   ],
   "metadata": {
    "collapsed": false
   }
  },
  {
   "cell_type": "code",
   "execution_count": 171,
   "outputs": [],
   "source": [
    "table['day_type'] = table.timestamp.dt.dayofweek\n",
    "table['day'] = table.timestamp.dt.day\n",
    "table['hour'] = table.timestamp.dt.hour"
   ],
   "metadata": {
    "collapsed": false
   }
  },
  {
   "cell_type": "code",
   "execution_count": 172,
   "outputs": [],
   "source": [
    "table['day_type'] = table['day_type'].apply(lambda x: 'working_day' if x < 5 else 'weekend')"
   ],
   "metadata": {
    "collapsed": false
   }
  },
  {
   "cell_type": "code",
   "execution_count": 173,
   "outputs": [],
   "source": [
    "t = table.groupby(['day_type', 'day', 'hour']).count().groupby(['day_type', 'hour']).mean()['uid'].reset_index()"
   ],
   "metadata": {
    "collapsed": false
   }
  },
  {
   "cell_type": "code",
   "execution_count": 174,
   "outputs": [
    {
     "data": {
      "text/plain": "        weekend  working_day\nhour                        \n0      2.000000     3.000000\n1      6.000000          NaN\n2           NaN          NaN\n3      1.000000     2.000000\n4           NaN          NaN\n5      2.000000     7.500000\n6           NaN     1.500000\n7      4.000000     5.166667\n8      7.000000     3.700000\n9      3.666667     6.000000\n10     7.000000    13.200000\n11    23.600000     6.769231\n12     9.500000     7.181818\n13    18.000000     8.111111\n14    12.428571    11.090909\n15    14.250000    14.100000\n16    14.800000    18.888889\n17     7.142857    17.454545\n18     9.714286    16.700000\n19    13.125000    19.454545\n20    13.000000    15.250000\n21    10.285714    24.333333\n22     9.833333     3.750000\n23     6.400000     5.000000",
      "text/html": "<div>\n<style scoped>\n    .dataframe tbody tr th:only-of-type {\n        vertical-align: middle;\n    }\n\n    .dataframe tbody tr th {\n        vertical-align: top;\n    }\n\n    .dataframe thead th {\n        text-align: right;\n    }\n</style>\n<table border=\"1\" class=\"dataframe\">\n  <thead>\n    <tr style=\"text-align: right;\">\n      <th></th>\n      <th>weekend</th>\n      <th>working_day</th>\n    </tr>\n    <tr>\n      <th>hour</th>\n      <th></th>\n      <th></th>\n    </tr>\n  </thead>\n  <tbody>\n    <tr>\n      <th>0</th>\n      <td>2.000000</td>\n      <td>3.000000</td>\n    </tr>\n    <tr>\n      <th>1</th>\n      <td>6.000000</td>\n      <td>NaN</td>\n    </tr>\n    <tr>\n      <th>2</th>\n      <td>NaN</td>\n      <td>NaN</td>\n    </tr>\n    <tr>\n      <th>3</th>\n      <td>1.000000</td>\n      <td>2.000000</td>\n    </tr>\n    <tr>\n      <th>4</th>\n      <td>NaN</td>\n      <td>NaN</td>\n    </tr>\n    <tr>\n      <th>5</th>\n      <td>2.000000</td>\n      <td>7.500000</td>\n    </tr>\n    <tr>\n      <th>6</th>\n      <td>NaN</td>\n      <td>1.500000</td>\n    </tr>\n    <tr>\n      <th>7</th>\n      <td>4.000000</td>\n      <td>5.166667</td>\n    </tr>\n    <tr>\n      <th>8</th>\n      <td>7.000000</td>\n      <td>3.700000</td>\n    </tr>\n    <tr>\n      <th>9</th>\n      <td>3.666667</td>\n      <td>6.000000</td>\n    </tr>\n    <tr>\n      <th>10</th>\n      <td>7.000000</td>\n      <td>13.200000</td>\n    </tr>\n    <tr>\n      <th>11</th>\n      <td>23.600000</td>\n      <td>6.769231</td>\n    </tr>\n    <tr>\n      <th>12</th>\n      <td>9.500000</td>\n      <td>7.181818</td>\n    </tr>\n    <tr>\n      <th>13</th>\n      <td>18.000000</td>\n      <td>8.111111</td>\n    </tr>\n    <tr>\n      <th>14</th>\n      <td>12.428571</td>\n      <td>11.090909</td>\n    </tr>\n    <tr>\n      <th>15</th>\n      <td>14.250000</td>\n      <td>14.100000</td>\n    </tr>\n    <tr>\n      <th>16</th>\n      <td>14.800000</td>\n      <td>18.888889</td>\n    </tr>\n    <tr>\n      <th>17</th>\n      <td>7.142857</td>\n      <td>17.454545</td>\n    </tr>\n    <tr>\n      <th>18</th>\n      <td>9.714286</td>\n      <td>16.700000</td>\n    </tr>\n    <tr>\n      <th>19</th>\n      <td>13.125000</td>\n      <td>19.454545</td>\n    </tr>\n    <tr>\n      <th>20</th>\n      <td>13.000000</td>\n      <td>15.250000</td>\n    </tr>\n    <tr>\n      <th>21</th>\n      <td>10.285714</td>\n      <td>24.333333</td>\n    </tr>\n    <tr>\n      <th>22</th>\n      <td>9.833333</td>\n      <td>3.750000</td>\n    </tr>\n    <tr>\n      <th>23</th>\n      <td>6.400000</td>\n      <td>5.000000</td>\n    </tr>\n  </tbody>\n</table>\n</div>"
     },
     "execution_count": 174,
     "metadata": {},
     "output_type": "execute_result"
    }
   ],
   "source": [
    "p = pd.pivot(t, values='uid', index='hour', columns='day_type')\n",
    "hrs = pd.DataFrame(range(24), columns=['hour'])\n",
    "p = hrs.merge(p, how='left', on='hour').set_index('hour')\n",
    "p"
   ],
   "metadata": {
    "collapsed": false
   }
  },
  {
   "cell_type": "markdown",
   "source": [
    "## create graph"
   ],
   "metadata": {
    "collapsed": false
   }
  },
  {
   "cell_type": "code",
   "execution_count": 175,
   "outputs": [
    {
     "data": {
      "text/plain": "array([<AxesSubplot: title={'center': 'weekend'}, xlabel='hour'>,\n       <AxesSubplot: title={'center': 'working_day'}, xlabel='hour'>],\n      dtype=object)"
     },
     "execution_count": 175,
     "metadata": {},
     "output_type": "execute_result"
    },
    {
     "data": {
      "text/plain": "<Figure size 1500x800 with 2 Axes>",
      "image/png": "[encoded data removed]"
     },
     "metadata": {},
     "output_type": "display_data"
    }
   ],
   "source": [
    "p.plot(\n",
    "    kind='bar',\n",
    "    fontsize=8,\n",
    "    figsize=(15,8),\n",
    "    rot=0,\n",
    "    title='Commits per hour',\n",
    "    color=['red', 'green'],\n",
    "    subplots=True\n",
    ")"
   ],
   "metadata": {
    "collapsed": false
   }
  },
  {
   "cell_type": "markdown",
   "source": [
    "## Is the dynamic different on working days and weekends"
   ],
   "metadata": {
    "collapsed": false
   }
  },
  {
   "cell_type": "code",
   "execution_count": 176,
   "outputs": [
    {
     "name": "stdout",
     "output_type": "stream",
     "text": [
      "max hour in working day - 21\n"
     ]
    }
   ],
   "source": [
    "print(f\"max hour in working day - {p['working_day'].idxmax()}\")"
   ],
   "metadata": {
    "collapsed": false
   }
  },
  {
   "cell_type": "code",
   "execution_count": 177,
   "outputs": [
    {
     "name": "stdout",
     "output_type": "stream",
     "text": [
      "max hour in weekend day - 11\n"
     ]
    }
   ],
   "source": [
    "print(f\"max hour in weekend day - {p['weekend'].idxmax()}\")"
   ],
   "metadata": {
    "collapsed": false
   }
  },
  {
   "cell_type": "code",
   "execution_count": null,
   "outputs": [],
   "source": [
    "base.close()#%%\n",
    "import pandas as pd\n",
    "import sqlite3"
   ],
   "metadata": {
    "collapsed": false
   }
  },
  {
   "cell_type": "code",
   "execution_count": null,
   "outputs": [],
   "source": [
    "base = sqlite3.connect(\"../data/checking-logs.sqlite.sqlite_copy\")"
   ],
   "metadata": {
    "collapsed": false
   }
  },
  {
   "cell_type": "markdown",
   "source": [
    "## analyze only the users and not the admins"
   ],
   "metadata": {
    "collapsed": false
   }
  },
  {
   "cell_type": "code",
   "execution_count": null,
   "outputs": [],
   "source": [
    "table = pd.io.sql.read_sql('''\n",
    "SELECT\n",
    "    uid, timestamp\n",
    "FROM\n",
    "    checker\n",
    "WHERE\n",
    "    uid LIKE 'user_%'\n",
    "''', base, parse_dates=['timestamp'])\n",
    "table"
   ],
   "metadata": {
    "collapsed": false
   }
  },
  {
   "cell_type": "code",
   "execution_count": null,
   "outputs": [],
   "source": [
    "table['day_type'] = table.timestamp.dt.dayofweek\n",
    "table['day'] = table.timestamp.dt.day\n",
    "table['hour'] = table.timestamp.dt.hour"
   ],
   "metadata": {
    "collapsed": false
   }
  },
  {
   "cell_type": "code",
   "execution_count": null,
   "outputs": [],
   "source": [
    "table['day_type'] = table['day_type'].apply(lambda x: 'working_day' if x < 5 else 'weekend')"
   ],
   "metadata": {
    "collapsed": false
   }
  },
  {
   "cell_type": "code",
   "execution_count": null,
   "outputs": [],
   "source": [
    "t = table.groupby(['day_type', 'day', 'hour']).count().groupby(['day_type', 'hour']).mean()['uid'].reset_index()"
   ],
   "metadata": {
    "collapsed": false
   }
  },
  {
   "cell_type": "code",
   "execution_count": null,
   "outputs": [],
   "source": [
    "p = pd.pivot(t, values='uid', index='hour', columns='day_type')\n",
    "hrs = pd.DataFrame(range(24), columns=['hour'])\n",
    "p = hrs.merge(p, how='left', on='hour').set_index('hour')\n",
    "p"
   ],
   "metadata": {
    "collapsed": false
   }
  },
  {
   "cell_type": "markdown",
   "source": [
    "## create graph"
   ],
   "metadata": {
    "collapsed": false
   }
  },
  {
   "cell_type": "code",
   "execution_count": null,
   "outputs": [],
   "source": [
    "p.plot(\n",
    "    kind='bar',\n",
    "    fontsize=8,\n",
    "    figsize=(15,8),\n",
    "    rot=0,\n",
    "    title='Commits per hour',\n",
    "    color=['red', 'green'],\n",
    "    subplots=True\n",
    ")"
   ],
   "metadata": {
    "collapsed": false
   }
  },
  {
   "cell_type": "markdown",
   "source": [
    "## Is the dynamic different on working days and weekends"
   ],
   "metadata": {
    "collapsed": false
   }
  },
  {
   "cell_type": "code",
   "execution_count": null,
   "outputs": [],
   "source": [
    "print(f\"max hour in working day - {p['working_day'].idxmax()}\")"
   ],
   "metadata": {
    "collapsed": false
   }
  },
  {
   "cell_type": "code",
   "execution_count": null,
   "outputs": [],
   "source": [
    "print(f\"max hour in weekend day - {p['weekend'].idxmax()}\")"
   ],
   "metadata": {
    "collapsed": false
   }
  },
  {
   "cell_type": "code",
   "execution_count": null,
   "outputs": [],
   "source": [],
   "metadata": {
    "collapsed": false
   }
  }
 ],
 "metadata": {
  "kernelspec": {
   "display_name": "Python 3",
   "language": "python",
   "name": "python3"
  },
  "language_info": {
   "codemirror_mode": {
    "name": "ipython",
    "version": 2
   },
   "file_extension": ".py",
   "mimetype": "text/x-python",
   "name": "python",
   "nbconvert_exporter": "python",
   "pygments_lexer": "ipython2",
   "version": "2.7.6"
  }
 },
 "nbformat": 4,
 "nbformat_minor": 0
}
