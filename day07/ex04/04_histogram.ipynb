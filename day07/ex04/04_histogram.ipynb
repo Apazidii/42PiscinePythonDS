{
 "cells": [
  {
   "cell_type": "code",
   "execution_count": 2,
   "metadata": {
    "collapsed": true
   },
   "outputs": [],
   "source": [
    "import pandas as pd\n",
    "import sqlite3\n",
    "import matplotlib.pyplot as plt"
   ]
  },
  {
   "cell_type": "code",
   "execution_count": 3,
   "outputs": [],
   "source": [
    "base = sqlite3.connect(\"../data/checking-logs.sqlite.sqlite_copy\")"
   ],
   "metadata": {
    "collapsed": false
   }
  },
  {
   "cell_type": "markdown",
   "source": [
    "## analyze only the users and not the admins"
   ],
   "metadata": {
    "collapsed": false
   }
  },
  {
   "cell_type": "code",
   "execution_count": 4,
   "outputs": [
    {
     "data": {
      "text/plain": "         uid                  timestamp\n0     user_4 2020-04-17 05:19:02.744528\n1     user_4 2020-04-17 05:22:35.249331\n2     user_4 2020-04-17 05:22:45.549397\n3     user_4 2020-04-17 05:34:14.691200\n4     user_4 2020-04-17 05:34:24.422370\n...      ...                        ...\n3202  user_1 2020-05-21 20:19:06.872761\n3203  user_1 2020-05-21 20:22:41.785725\n3204  user_1 2020-05-21 20:22:41.877806\n3205  user_1 2020-05-21 20:37:00.129678\n3206  user_1 2020-05-21 20:37:00.290491\n\n[3207 rows x 2 columns]",
      "text/html": "<div>\n<style scoped>\n    .dataframe tbody tr th:only-of-type {\n        vertical-align: middle;\n    }\n\n    .dataframe tbody tr th {\n        vertical-align: top;\n    }\n\n    .dataframe thead th {\n        text-align: right;\n    }\n</style>\n<table border=\"1\" class=\"dataframe\">\n  <thead>\n    <tr style=\"text-align: right;\">\n      <th></th>\n      <th>uid</th>\n      <th>timestamp</th>\n    </tr>\n  </thead>\n  <tbody>\n    <tr>\n      <th>0</th>\n      <td>user_4</td>\n      <td>2020-04-17 05:19:02.744528</td>\n    </tr>\n    <tr>\n      <th>1</th>\n      <td>user_4</td>\n      <td>2020-04-17 05:22:35.249331</td>\n    </tr>\n    <tr>\n      <th>2</th>\n      <td>user_4</td>\n      <td>2020-04-17 05:22:45.549397</td>\n    </tr>\n    <tr>\n      <th>3</th>\n      <td>user_4</td>\n      <td>2020-04-17 05:34:14.691200</td>\n    </tr>\n    <tr>\n      <th>4</th>\n      <td>user_4</td>\n      <td>2020-04-17 05:34:24.422370</td>\n    </tr>\n    <tr>\n      <th>...</th>\n      <td>...</td>\n      <td>...</td>\n    </tr>\n    <tr>\n      <th>3202</th>\n      <td>user_1</td>\n      <td>2020-05-21 20:19:06.872761</td>\n    </tr>\n    <tr>\n      <th>3203</th>\n      <td>user_1</td>\n      <td>2020-05-21 20:22:41.785725</td>\n    </tr>\n    <tr>\n      <th>3204</th>\n      <td>user_1</td>\n      <td>2020-05-21 20:22:41.877806</td>\n    </tr>\n    <tr>\n      <th>3205</th>\n      <td>user_1</td>\n      <td>2020-05-21 20:37:00.129678</td>\n    </tr>\n    <tr>\n      <th>3206</th>\n      <td>user_1</td>\n      <td>2020-05-21 20:37:00.290491</td>\n    </tr>\n  </tbody>\n</table>\n<p>3207 rows × 2 columns</p>\n</div>"
     },
     "execution_count": 4,
     "metadata": {},
     "output_type": "execute_result"
    }
   ],
   "source": [
    "table = pd.io.sql.read_sql('''\n",
    "SELECT\n",
    "    uid, timestamp\n",
    "FROM\n",
    "    checker\n",
    "WHERE\n",
    "    uid LIKE 'user_%'\n",
    "''', base, parse_dates=['timestamp'])\n",
    "table"
   ],
   "metadata": {
    "collapsed": false
   }
  },
  {
   "cell_type": "code",
   "execution_count": 4,
   "outputs": [],
   "source": [],
   "metadata": {
    "collapsed": false
   }
  }
 ],
 "metadata": {
  "kernelspec": {
   "display_name": "Python 3",
   "language": "python",
   "name": "python3"
  },
  "language_info": {
   "codemirror_mode": {
    "name": "ipython",
    "version": 2
   },
   "file_extension": ".py",
   "mimetype": "text/x-python",
   "name": "python",
   "nbconvert_exporter": "python",
   "pygments_lexer": "ipython2",
   "version": "2.7.6"
  }
 },
 "nbformat": 4,
 "nbformat_minor": 0
}
