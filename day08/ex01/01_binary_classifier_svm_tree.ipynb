{
 "cells": [
  {
   "cell_type": "markdown",
   "metadata": {},
   "source": [
    "# Day 08. Exercise 01\n",
    "# Binary classifier. SVM. Decision tree"
   ]
  },
  {
   "cell_type": "markdown",
   "metadata": {},
   "source": [
    "## 0. Imports"
   ]
  },
  {
   "cell_type": "code",
   "execution_count": 2,
   "metadata": {},
   "outputs": [],
   "source": [
    "import pandas as pd"
   ]
  },
  {
   "cell_type": "markdown",
   "metadata": {},
   "source": [
    "## 1. Preprocessing and logreg visualization"
   ]
  },
  {
   "cell_type": "markdown",
   "metadata": {},
   "source": [
    "Read the file `am_pm.csv` to a dataframe from the previous exercise."
   ]
  },
  {
   "cell_type": "markdown",
   "metadata": {},
   "source": [
    "1. Draw a plot where the x-axis is `am`, the y-axis is `pm`, dots are the days, color depends on the target.\n",
    "2. Add the decision boundary of logistic regression to the plot.\n",
    "3. Draw the same plot (with the boundary), but the color should depend this time on the predictions.\n",
    "\n",
    "Now it should be clear for you how the logistic regression works."
   ]
  },
  {
   "cell_type": "code",
   "execution_count": 3,
   "metadata": {},
   "outputs": [
    {
     "data": {
      "text/plain": "          date  am   pm       target  target_bin      predict  predict_bin\n0   2020-04-17  21    2  working_day           0      weekend            1\n1   2020-04-18   1   68      weekend           1  working_day            0\n2   2020-04-19  18   15      weekend           1  working_day            0\n3   2020-04-20   2   23  working_day           0  working_day            0\n4   2020-04-21   0   25  working_day           0  working_day            0\n5   2020-04-22   0   28  working_day           0  working_day            0\n6   2020-04-23  10   33  working_day           0  working_day            0\n7   2020-04-24   2   14  working_day           0  working_day            0\n8   2020-04-25  30   74      weekend           1  working_day            0\n9   2020-04-26  28  233      weekend           1  working_day            0\n10  2020-04-27   4    2  working_day           0  working_day            0\n11  2020-04-28   4    1  working_day           0  working_day            0\n12  2020-04-29   0   17  working_day           0  working_day            0\n13  2020-04-30  13   40  working_day           0  working_day            0\n14  2020-05-01   8   52  working_day           0  working_day            0\n15  2020-05-02  91  151      weekend           1  working_day            0\n16  2020-05-03  47  133      weekend           1  working_day            0\n17  2020-05-04  11   26  working_day           0  working_day            0\n18  2020-05-05  81   58  working_day           0  working_day            0\n19  2020-05-06   2    0  working_day           0      weekend            1\n20  2020-05-07  14   38  working_day           0  working_day            0\n21  2020-05-08   3   84  working_day           0  working_day            0\n22  2020-05-09   0   86      weekend           1  working_day            0\n23  2020-05-10  10  133      weekend           1  working_day            0\n24  2020-05-11   3  183  working_day           0  working_day            0\n25  2020-05-12  56  267  working_day           0  working_day            0\n26  2020-05-13   6  205  working_day           0  working_day            0\n27  2020-05-14  66  509  working_day           0  working_day            0\n28  2020-05-15  10    0  working_day           0      weekend            1\n29  2020-05-16   0    4      weekend           1  working_day            0\n30  2020-05-17   2   46      weekend           1  working_day            0\n31  2020-05-18   0    3  working_day           0  working_day            0\n32  2020-05-19  20   14  working_day           0  working_day            0\n33  2020-05-20   7   21  working_day           0  working_day            0\n34  2020-05-21   1   48  working_day           0  working_day            0",
      "text/html": "<div>\n<style scoped>\n    .dataframe tbody tr th:only-of-type {\n        vertical-align: middle;\n    }\n\n    .dataframe tbody tr th {\n        vertical-align: top;\n    }\n\n    .dataframe thead th {\n        text-align: right;\n    }\n</style>\n<table border=\"1\" class=\"dataframe\">\n  <thead>\n    <tr style=\"text-align: right;\">\n      <th></th>\n      <th>date</th>\n      <th>am</th>\n      <th>pm</th>\n      <th>target</th>\n      <th>target_bin</th>\n      <th>predict</th>\n      <th>predict_bin</th>\n    </tr>\n  </thead>\n  <tbody>\n    <tr>\n      <th>0</th>\n      <td>2020-04-17</td>\n      <td>21</td>\n      <td>2</td>\n      <td>working_day</td>\n      <td>0</td>\n      <td>weekend</td>\n      <td>1</td>\n    </tr>\n    <tr>\n      <th>1</th>\n      <td>2020-04-18</td>\n      <td>1</td>\n      <td>68</td>\n      <td>weekend</td>\n      <td>1</td>\n      <td>working_day</td>\n      <td>0</td>\n    </tr>\n    <tr>\n      <th>2</th>\n      <td>2020-04-19</td>\n      <td>18</td>\n      <td>15</td>\n      <td>weekend</td>\n      <td>1</td>\n      <td>working_day</td>\n      <td>0</td>\n    </tr>\n    <tr>\n      <th>3</th>\n      <td>2020-04-20</td>\n      <td>2</td>\n      <td>23</td>\n      <td>working_day</td>\n      <td>0</td>\n      <td>working_day</td>\n      <td>0</td>\n    </tr>\n    <tr>\n      <th>4</th>\n      <td>2020-04-21</td>\n      <td>0</td>\n      <td>25</td>\n      <td>working_day</td>\n      <td>0</td>\n      <td>working_day</td>\n      <td>0</td>\n    </tr>\n    <tr>\n      <th>5</th>\n      <td>2020-04-22</td>\n      <td>0</td>\n      <td>28</td>\n      <td>working_day</td>\n      <td>0</td>\n      <td>working_day</td>\n      <td>0</td>\n    </tr>\n    <tr>\n      <th>6</th>\n      <td>2020-04-23</td>\n      <td>10</td>\n      <td>33</td>\n      <td>working_day</td>\n      <td>0</td>\n      <td>working_day</td>\n      <td>0</td>\n    </tr>\n    <tr>\n      <th>7</th>\n      <td>2020-04-24</td>\n      <td>2</td>\n      <td>14</td>\n      <td>working_day</td>\n      <td>0</td>\n      <td>working_day</td>\n      <td>0</td>\n    </tr>\n    <tr>\n      <th>8</th>\n      <td>2020-04-25</td>\n      <td>30</td>\n      <td>74</td>\n      <td>weekend</td>\n      <td>1</td>\n      <td>working_day</td>\n      <td>0</td>\n    </tr>\n    <tr>\n      <th>9</th>\n      <td>2020-04-26</td>\n      <td>28</td>\n      <td>233</td>\n      <td>weekend</td>\n      <td>1</td>\n      <td>working_day</td>\n      <td>0</td>\n    </tr>\n    <tr>\n      <th>10</th>\n      <td>2020-04-27</td>\n      <td>4</td>\n      <td>2</td>\n      <td>working_day</td>\n      <td>0</td>\n      <td>working_day</td>\n      <td>0</td>\n    </tr>\n    <tr>\n      <th>11</th>\n      <td>2020-04-28</td>\n      <td>4</td>\n      <td>1</td>\n      <td>working_day</td>\n      <td>0</td>\n      <td>working_day</td>\n      <td>0</td>\n    </tr>\n    <tr>\n      <th>12</th>\n      <td>2020-04-29</td>\n      <td>0</td>\n      <td>17</td>\n      <td>working_day</td>\n      <td>0</td>\n      <td>working_day</td>\n      <td>0</td>\n    </tr>\n    <tr>\n      <th>13</th>\n      <td>2020-04-30</td>\n      <td>13</td>\n      <td>40</td>\n      <td>working_day</td>\n      <td>0</td>\n      <td>working_day</td>\n      <td>0</td>\n    </tr>\n    <tr>\n      <th>14</th>\n      <td>2020-05-01</td>\n      <td>8</td>\n      <td>52</td>\n      <td>working_day</td>\n      <td>0</td>\n      <td>working_day</td>\n      <td>0</td>\n    </tr>\n    <tr>\n      <th>15</th>\n      <td>2020-05-02</td>\n      <td>91</td>\n      <td>151</td>\n      <td>weekend</td>\n      <td>1</td>\n      <td>working_day</td>\n      <td>0</td>\n    </tr>\n    <tr>\n      <th>16</th>\n      <td>2020-05-03</td>\n      <td>47</td>\n      <td>133</td>\n      <td>weekend</td>\n      <td>1</td>\n      <td>working_day</td>\n      <td>0</td>\n    </tr>\n    <tr>\n      <th>17</th>\n      <td>2020-05-04</td>\n      <td>11</td>\n      <td>26</td>\n      <td>working_day</td>\n      <td>0</td>\n      <td>working_day</td>\n      <td>0</td>\n    </tr>\n    <tr>\n      <th>18</th>\n      <td>2020-05-05</td>\n      <td>81</td>\n      <td>58</td>\n      <td>working_day</td>\n      <td>0</td>\n      <td>working_day</td>\n      <td>0</td>\n    </tr>\n    <tr>\n      <th>19</th>\n      <td>2020-05-06</td>\n      <td>2</td>\n      <td>0</td>\n      <td>working_day</td>\n      <td>0</td>\n      <td>weekend</td>\n      <td>1</td>\n    </tr>\n    <tr>\n      <th>20</th>\n      <td>2020-05-07</td>\n      <td>14</td>\n      <td>38</td>\n      <td>working_day</td>\n      <td>0</td>\n      <td>working_day</td>\n      <td>0</td>\n    </tr>\n    <tr>\n      <th>21</th>\n      <td>2020-05-08</td>\n      <td>3</td>\n      <td>84</td>\n      <td>working_day</td>\n      <td>0</td>\n      <td>working_day</td>\n      <td>0</td>\n    </tr>\n    <tr>\n      <th>22</th>\n      <td>2020-05-09</td>\n      <td>0</td>\n      <td>86</td>\n      <td>weekend</td>\n      <td>1</td>\n      <td>working_day</td>\n      <td>0</td>\n    </tr>\n    <tr>\n      <th>23</th>\n      <td>2020-05-10</td>\n      <td>10</td>\n      <td>133</td>\n      <td>weekend</td>\n      <td>1</td>\n      <td>working_day</td>\n      <td>0</td>\n    </tr>\n    <tr>\n      <th>24</th>\n      <td>2020-05-11</td>\n      <td>3</td>\n      <td>183</td>\n      <td>working_day</td>\n      <td>0</td>\n      <td>working_day</td>\n      <td>0</td>\n    </tr>\n    <tr>\n      <th>25</th>\n      <td>2020-05-12</td>\n      <td>56</td>\n      <td>267</td>\n      <td>working_day</td>\n      <td>0</td>\n      <td>working_day</td>\n      <td>0</td>\n    </tr>\n    <tr>\n      <th>26</th>\n      <td>2020-05-13</td>\n      <td>6</td>\n      <td>205</td>\n      <td>working_day</td>\n      <td>0</td>\n      <td>working_day</td>\n      <td>0</td>\n    </tr>\n    <tr>\n      <th>27</th>\n      <td>2020-05-14</td>\n      <td>66</td>\n      <td>509</td>\n      <td>working_day</td>\n      <td>0</td>\n      <td>working_day</td>\n      <td>0</td>\n    </tr>\n    <tr>\n      <th>28</th>\n      <td>2020-05-15</td>\n      <td>10</td>\n      <td>0</td>\n      <td>working_day</td>\n      <td>0</td>\n      <td>weekend</td>\n      <td>1</td>\n    </tr>\n    <tr>\n      <th>29</th>\n      <td>2020-05-16</td>\n      <td>0</td>\n      <td>4</td>\n      <td>weekend</td>\n      <td>1</td>\n      <td>working_day</td>\n      <td>0</td>\n    </tr>\n    <tr>\n      <th>30</th>\n      <td>2020-05-17</td>\n      <td>2</td>\n      <td>46</td>\n      <td>weekend</td>\n      <td>1</td>\n      <td>working_day</td>\n      <td>0</td>\n    </tr>\n    <tr>\n      <th>31</th>\n      <td>2020-05-18</td>\n      <td>0</td>\n      <td>3</td>\n      <td>working_day</td>\n      <td>0</td>\n      <td>working_day</td>\n      <td>0</td>\n    </tr>\n    <tr>\n      <th>32</th>\n      <td>2020-05-19</td>\n      <td>20</td>\n      <td>14</td>\n      <td>working_day</td>\n      <td>0</td>\n      <td>working_day</td>\n      <td>0</td>\n    </tr>\n    <tr>\n      <th>33</th>\n      <td>2020-05-20</td>\n      <td>7</td>\n      <td>21</td>\n      <td>working_day</td>\n      <td>0</td>\n      <td>working_day</td>\n      <td>0</td>\n    </tr>\n    <tr>\n      <th>34</th>\n      <td>2020-05-21</td>\n      <td>1</td>\n      <td>48</td>\n      <td>working_day</td>\n      <td>0</td>\n      <td>working_day</td>\n      <td>0</td>\n    </tr>\n  </tbody>\n</table>\n</div>"
     },
     "execution_count": 3,
     "metadata": {},
     "output_type": "execute_result"
    }
   ],
   "source": [
    "df = pd.read_csv('../data/am_pm.csv')\n",
    "df"
   ]
  },
  {
   "cell_type": "code",
   "execution_count": null,
   "metadata": {},
   "outputs": [],
   "source": [
    "\n"
   ]
  },
  {
   "cell_type": "code",
   "execution_count": null,
   "metadata": {},
   "outputs": [],
   "source": []
  },
  {
   "cell_type": "code",
   "execution_count": null,
   "metadata": {},
   "outputs": [],
   "source": []
  },
  {
   "cell_type": "code",
   "execution_count": null,
   "metadata": {},
   "outputs": [],
   "source": []
  },
  {
   "cell_type": "code",
   "execution_count": null,
   "metadata": {},
   "outputs": [],
   "source": []
  },
  {
   "cell_type": "code",
   "execution_count": null,
   "metadata": {},
   "outputs": [],
   "source": []
  },
  {
   "cell_type": "code",
   "execution_count": null,
   "metadata": {},
   "outputs": [],
   "source": []
  },
  {
   "cell_type": "code",
   "execution_count": null,
   "metadata": {},
   "outputs": [],
   "source": []
  },
  {
   "cell_type": "code",
   "execution_count": null,
   "metadata": {},
   "outputs": [],
   "source": []
  },
  {
   "cell_type": "code",
   "execution_count": null,
   "metadata": {},
   "outputs": [],
   "source": []
  },
  {
   "cell_type": "code",
   "execution_count": null,
   "metadata": {},
   "outputs": [],
   "source": []
  },
  {
   "cell_type": "markdown",
   "metadata": {},
   "source": [
    "## 2. Standardizing and logreg"
   ]
  },
  {
   "cell_type": "markdown",
   "metadata": {},
   "source": [
    "Linear models can be sensitive to the scale of your variables. You make it easier for them to find the optimal solution when you scale your features.\n",
    "\n",
    "1. Apply `StandardScaler` to `X` and train logistic regression again with the same parameters.\n",
    "2. Calculate `accuracy` for the new model. Did it get better than a naive classifier with the most popular class?\n",
    "3. Draw the plots that were described above but for the new model."
   ]
  },
  {
   "cell_type": "code",
   "execution_count": null,
   "metadata": {},
   "outputs": [],
   "source": []
  },
  {
   "cell_type": "code",
   "execution_count": null,
   "metadata": {},
   "outputs": [],
   "source": []
  },
  {
   "cell_type": "code",
   "execution_count": null,
   "metadata": {},
   "outputs": [],
   "source": []
  },
  {
   "cell_type": "code",
   "execution_count": null,
   "metadata": {},
   "outputs": [],
   "source": []
  },
  {
   "cell_type": "code",
   "execution_count": null,
   "metadata": {},
   "outputs": [],
   "source": []
  },
  {
   "cell_type": "code",
   "execution_count": null,
   "metadata": {},
   "outputs": [],
   "source": []
  },
  {
   "cell_type": "code",
   "execution_count": null,
   "metadata": {},
   "outputs": [],
   "source": []
  },
  {
   "cell_type": "code",
   "execution_count": null,
   "metadata": {},
   "outputs": [],
   "source": []
  },
  {
   "cell_type": "code",
   "execution_count": null,
   "metadata": {},
   "outputs": [],
   "source": []
  },
  {
   "cell_type": "code",
   "execution_count": null,
   "metadata": {},
   "outputs": [],
   "source": []
  },
  {
   "cell_type": "markdown",
   "metadata": {},
   "source": [
    "## 3. SVM"
   ]
  },
  {
   "cell_type": "markdown",
   "metadata": {},
   "source": [
    "1. Apply `SVC` model to the scaled dataframe using parameters `probability=True`, `random_state=21`.\n",
    "2. Calculate `accuracy`.\n",
    "3. Try different kernels, find the best in terms of accuracy.\n",
    "4. Draw both plots again with the decisions boundary to see how this algorithm works."
   ]
  },
  {
   "cell_type": "code",
   "execution_count": null,
   "metadata": {},
   "outputs": [],
   "source": []
  },
  {
   "cell_type": "code",
   "execution_count": null,
   "metadata": {},
   "outputs": [],
   "source": []
  },
  {
   "cell_type": "code",
   "execution_count": null,
   "metadata": {},
   "outputs": [],
   "source": []
  },
  {
   "cell_type": "code",
   "execution_count": null,
   "metadata": {},
   "outputs": [],
   "source": []
  },
  {
   "cell_type": "code",
   "execution_count": null,
   "metadata": {},
   "outputs": [],
   "source": []
  },
  {
   "cell_type": "code",
   "execution_count": null,
   "metadata": {},
   "outputs": [],
   "source": []
  },
  {
   "cell_type": "code",
   "execution_count": null,
   "metadata": {},
   "outputs": [],
   "source": []
  },
  {
   "cell_type": "code",
   "execution_count": null,
   "metadata": {},
   "outputs": [],
   "source": []
  },
  {
   "cell_type": "code",
   "execution_count": null,
   "metadata": {},
   "outputs": [],
   "source": []
  },
  {
   "cell_type": "markdown",
   "metadata": {},
   "source": [
    "## 4. Decision tree"
   ]
  },
  {
   "cell_type": "markdown",
   "metadata": {},
   "source": [
    "1. Apply `DecisionTreeClassifier` to the scaled dataframe using parameters `max_depth=4`, `random_state=42`.\n",
    "2. Calculate accuracy.\n",
    "3. Try different values of `max_depth`.\n",
    "4. Draw both plots again with the decisions boundary to see how this algorithm works.\n",
    "5. Using method `.plot_tree()` visualize the decision tree itself. It is another way of thinking about how the algorithm works.\n",
    "6. How many leaves in the visualized tree label days as working days? Put your answer in the markdown cell in the end of the section."
   ]
  },
  {
   "cell_type": "code",
   "execution_count": null,
   "metadata": {},
   "outputs": [],
   "source": []
  },
  {
   "cell_type": "code",
   "execution_count": null,
   "metadata": {},
   "outputs": [],
   "source": []
  },
  {
   "cell_type": "code",
   "execution_count": null,
   "metadata": {},
   "outputs": [],
   "source": []
  },
  {
   "cell_type": "code",
   "execution_count": null,
   "metadata": {},
   "outputs": [],
   "source": []
  },
  {
   "cell_type": "code",
   "execution_count": null,
   "metadata": {},
   "outputs": [],
   "source": []
  },
  {
   "cell_type": "markdown",
   "metadata": {},
   "source": []
  }
 ],
 "metadata": {
  "kernelspec": {
   "display_name": "Python 3",
   "language": "python",
   "name": "python3"
  },
  "language_info": {
   "codemirror_mode": {
    "name": "ipython",
    "version": 3
   },
   "file_extension": ".py",
   "mimetype": "text/x-python",
   "name": "python",
   "nbconvert_exporter": "python",
   "pygments_lexer": "ipython3",
   "version": "3.7.7"
  }
 },
 "nbformat": 4,
 "nbformat_minor": 4
}
