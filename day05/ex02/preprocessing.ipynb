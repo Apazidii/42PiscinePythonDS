{
 "cells": [
  {
   "cell_type": "code",
   "execution_count": 292,
   "outputs": [],
   "source": [
    "import pandas as pd"
   ],
   "metadata": {
    "collapsed": false
   }
  },
  {
   "cell_type": "markdown",
   "source": [
    "## download and read the CSV file and make ID the index column"
   ],
   "metadata": {
    "collapsed": false
   }
  },
  {
   "cell_type": "code",
   "execution_count": 293,
   "outputs": [
    {
     "data": {
      "text/plain": "        CarNumber    Make_n_model  Refund    Fines  History\nID                                                         \n0    Y163O8161RUS      Ford Focus     2.0   3200.0      NaN\n1     E432XX77RUS    Toyota Camry     1.0   6500.0      NaN\n2     7184TT36RUS      Ford Focus     1.0   2100.0      NaN\n3    X582HE161RUS      Ford Focus     2.0   2000.0      NaN\n4    E34877152RUS      Ford Focus     2.0   6100.0      NaN\n..            ...             ...     ...      ...      ...\n926  Y163O8161RUS      Ford Focus     2.0   1600.0      NaN\n927  M0309X197RUS      Ford Focus     1.0  22300.0      NaN\n928  O673E8197RUS      Ford Focus     2.0    600.0      NaN\n929  8610T8154RUS      Ford Focus     1.0   2000.0      NaN\n930  H419XE197RUS  Toyota Corolla     2.0      NaN      2.0\n\n[931 rows x 5 columns]",
      "text/html": "<div>\n<style scoped>\n    .dataframe tbody tr th:only-of-type {\n        vertical-align: middle;\n    }\n\n    .dataframe tbody tr th {\n        vertical-align: top;\n    }\n\n    .dataframe thead th {\n        text-align: right;\n    }\n</style>\n<table border=\"1\" class=\"dataframe\">\n  <thead>\n    <tr style=\"text-align: right;\">\n      <th></th>\n      <th>CarNumber</th>\n      <th>Make_n_model</th>\n      <th>Refund</th>\n      <th>Fines</th>\n      <th>History</th>\n    </tr>\n    <tr>\n      <th>ID</th>\n      <th></th>\n      <th></th>\n      <th></th>\n      <th></th>\n      <th></th>\n    </tr>\n  </thead>\n  <tbody>\n    <tr>\n      <th>0</th>\n      <td>Y163O8161RUS</td>\n      <td>Ford Focus</td>\n      <td>2.0</td>\n      <td>3200.0</td>\n      <td>NaN</td>\n    </tr>\n    <tr>\n      <th>1</th>\n      <td>E432XX77RUS</td>\n      <td>Toyota Camry</td>\n      <td>1.0</td>\n      <td>6500.0</td>\n      <td>NaN</td>\n    </tr>\n    <tr>\n      <th>2</th>\n      <td>7184TT36RUS</td>\n      <td>Ford Focus</td>\n      <td>1.0</td>\n      <td>2100.0</td>\n      <td>NaN</td>\n    </tr>\n    <tr>\n      <th>3</th>\n      <td>X582HE161RUS</td>\n      <td>Ford Focus</td>\n      <td>2.0</td>\n      <td>2000.0</td>\n      <td>NaN</td>\n    </tr>\n    <tr>\n      <th>4</th>\n      <td>E34877152RUS</td>\n      <td>Ford Focus</td>\n      <td>2.0</td>\n      <td>6100.0</td>\n      <td>NaN</td>\n    </tr>\n    <tr>\n      <th>...</th>\n      <td>...</td>\n      <td>...</td>\n      <td>...</td>\n      <td>...</td>\n      <td>...</td>\n    </tr>\n    <tr>\n      <th>926</th>\n      <td>Y163O8161RUS</td>\n      <td>Ford Focus</td>\n      <td>2.0</td>\n      <td>1600.0</td>\n      <td>NaN</td>\n    </tr>\n    <tr>\n      <th>927</th>\n      <td>M0309X197RUS</td>\n      <td>Ford Focus</td>\n      <td>1.0</td>\n      <td>22300.0</td>\n      <td>NaN</td>\n    </tr>\n    <tr>\n      <th>928</th>\n      <td>O673E8197RUS</td>\n      <td>Ford Focus</td>\n      <td>2.0</td>\n      <td>600.0</td>\n      <td>NaN</td>\n    </tr>\n    <tr>\n      <th>929</th>\n      <td>8610T8154RUS</td>\n      <td>Ford Focus</td>\n      <td>1.0</td>\n      <td>2000.0</td>\n      <td>NaN</td>\n    </tr>\n    <tr>\n      <th>930</th>\n      <td>H419XE197RUS</td>\n      <td>Toyota Corolla</td>\n      <td>2.0</td>\n      <td>NaN</td>\n      <td>2.0</td>\n    </tr>\n  </tbody>\n</table>\n<p>931 rows × 5 columns</p>\n</div>"
     },
     "execution_count": 293,
     "metadata": {},
     "output_type": "execute_result"
    }
   ],
   "source": [
    "file = pd.read_csv(\"../data/auto.csv\", index_col='ID')\n",
    "file"
   ],
   "metadata": {
    "collapsed": false
   }
  },
  {
   "cell_type": "markdown",
   "source": [
    "## count the number of observations using the method count()"
   ],
   "metadata": {
    "collapsed": false
   }
  },
  {
   "cell_type": "code",
   "execution_count": 294,
   "outputs": [
    {
     "data": {
      "text/plain": "CarNumber       931\nMake_n_model    931\nRefund          914\nFines           869\nHistory          82\ndtype: int64"
     },
     "execution_count": 294,
     "metadata": {},
     "output_type": "execute_result"
    }
   ],
   "source": [
    "file.count()"
   ],
   "metadata": {
    "collapsed": false
   }
  },
  {
   "cell_type": "markdown",
   "source": [
    "## drop the duplicates, taking into account only the following columns: CarNumber, Make_n_model, Fines"
   ],
   "metadata": {
    "collapsed": false
   }
  },
  {
   "cell_type": "code",
   "execution_count": 295,
   "outputs": [
    {
     "data": {
      "text/plain": "        CarNumber    Make_n_model  Refund    Fines  History\nID                                                         \n0    Y163O8161RUS      Ford Focus     2.0   3200.0      NaN\n1     E432XX77RUS    Toyota Camry     1.0   6500.0      NaN\n2     7184TT36RUS      Ford Focus     1.0   2100.0      NaN\n3    X582HE161RUS      Ford Focus     2.0   2000.0      NaN\n5    92918M178RUS      Ford Focus     1.0   5700.0      NaN\n..            ...             ...     ...      ...      ...\n926  Y163O8161RUS      Ford Focus     2.0   1600.0      NaN\n927  M0309X197RUS      Ford Focus     1.0  22300.0      NaN\n928  O673E8197RUS      Ford Focus     2.0    600.0      NaN\n929  8610T8154RUS      Ford Focus     1.0   2000.0      NaN\n930  H419XE197RUS  Toyota Corolla     2.0      NaN      2.0\n\n[725 rows x 5 columns]",
      "text/html": "<div>\n<style scoped>\n    .dataframe tbody tr th:only-of-type {\n        vertical-align: middle;\n    }\n\n    .dataframe tbody tr th {\n        vertical-align: top;\n    }\n\n    .dataframe thead th {\n        text-align: right;\n    }\n</style>\n<table border=\"1\" class=\"dataframe\">\n  <thead>\n    <tr style=\"text-align: right;\">\n      <th></th>\n      <th>CarNumber</th>\n      <th>Make_n_model</th>\n      <th>Refund</th>\n      <th>Fines</th>\n      <th>History</th>\n    </tr>\n    <tr>\n      <th>ID</th>\n      <th></th>\n      <th></th>\n      <th></th>\n      <th></th>\n      <th></th>\n    </tr>\n  </thead>\n  <tbody>\n    <tr>\n      <th>0</th>\n      <td>Y163O8161RUS</td>\n      <td>Ford Focus</td>\n      <td>2.0</td>\n      <td>3200.0</td>\n      <td>NaN</td>\n    </tr>\n    <tr>\n      <th>1</th>\n      <td>E432XX77RUS</td>\n      <td>Toyota Camry</td>\n      <td>1.0</td>\n      <td>6500.0</td>\n      <td>NaN</td>\n    </tr>\n    <tr>\n      <th>2</th>\n      <td>7184TT36RUS</td>\n      <td>Ford Focus</td>\n      <td>1.0</td>\n      <td>2100.0</td>\n      <td>NaN</td>\n    </tr>\n    <tr>\n      <th>3</th>\n      <td>X582HE161RUS</td>\n      <td>Ford Focus</td>\n      <td>2.0</td>\n      <td>2000.0</td>\n      <td>NaN</td>\n    </tr>\n    <tr>\n      <th>5</th>\n      <td>92918M178RUS</td>\n      <td>Ford Focus</td>\n      <td>1.0</td>\n      <td>5700.0</td>\n      <td>NaN</td>\n    </tr>\n    <tr>\n      <th>...</th>\n      <td>...</td>\n      <td>...</td>\n      <td>...</td>\n      <td>...</td>\n      <td>...</td>\n    </tr>\n    <tr>\n      <th>926</th>\n      <td>Y163O8161RUS</td>\n      <td>Ford Focus</td>\n      <td>2.0</td>\n      <td>1600.0</td>\n      <td>NaN</td>\n    </tr>\n    <tr>\n      <th>927</th>\n      <td>M0309X197RUS</td>\n      <td>Ford Focus</td>\n      <td>1.0</td>\n      <td>22300.0</td>\n      <td>NaN</td>\n    </tr>\n    <tr>\n      <th>928</th>\n      <td>O673E8197RUS</td>\n      <td>Ford Focus</td>\n      <td>2.0</td>\n      <td>600.0</td>\n      <td>NaN</td>\n    </tr>\n    <tr>\n      <th>929</th>\n      <td>8610T8154RUS</td>\n      <td>Ford Focus</td>\n      <td>1.0</td>\n      <td>2000.0</td>\n      <td>NaN</td>\n    </tr>\n    <tr>\n      <th>930</th>\n      <td>H419XE197RUS</td>\n      <td>Toyota Corolla</td>\n      <td>2.0</td>\n      <td>NaN</td>\n      <td>2.0</td>\n    </tr>\n  </tbody>\n</table>\n<p>725 rows × 5 columns</p>\n</div>"
     },
     "execution_count": 295,
     "metadata": {},
     "output_type": "execute_result"
    }
   ],
   "source": [
    "file = file.drop_duplicates(['CarNumber', 'Make_n_model', 'Fines'], keep='last')\n",
    "file"
   ],
   "metadata": {
    "collapsed": false
   }
  },
  {
   "cell_type": "code",
   "execution_count": 296,
   "outputs": [
    {
     "data": {
      "text/plain": "CarNumber       725\nMake_n_model    725\nRefund          713\nFines           665\nHistory          65\ndtype: int64"
     },
     "execution_count": 296,
     "metadata": {},
     "output_type": "execute_result"
    }
   ],
   "source": [
    "file.count()"
   ],
   "metadata": {
    "collapsed": false
   }
  },
  {
   "cell_type": "markdown",
   "source": [
    "## work with missing values"
   ],
   "metadata": {
    "collapsed": false
   }
  },
  {
   "cell_type": "code",
   "execution_count": 297,
   "outputs": [
    {
     "data": {
      "text/plain": "CarNumber         0\nMake_n_model      0\nRefund           12\nFines            60\nHistory         660\ndtype: int64"
     },
     "execution_count": 297,
     "metadata": {},
     "output_type": "execute_result"
    }
   ],
   "source": [
    "file.isnull().sum()"
   ],
   "metadata": {
    "collapsed": false
   }
  },
  {
   "cell_type": "code",
   "execution_count": 298,
   "outputs": [
    {
     "data": {
      "text/plain": "CarNumber        0\nMake_n_model     0\nRefund          12\nFines           60\ndtype: int64"
     },
     "execution_count": 298,
     "metadata": {},
     "output_type": "execute_result"
    }
   ],
   "source": [
    "file = file.dropna(thresh=500, axis=1)\n",
    "file.isnull().sum()"
   ],
   "metadata": {
    "collapsed": false
   }
  },
  {
   "cell_type": "code",
   "execution_count": 299,
   "outputs": [
    {
     "name": "stderr",
     "output_type": "stream",
     "text": [
      "/tmp/ipykernel_136159/2099946767.py:1: SettingWithCopyWarning: \n",
      "A value is trying to be set on a copy of a slice from a DataFrame\n",
      "\n",
      "See the caveats in the documentation: https://pandas.pydata.org/pandas-docs/stable/user_guide/indexing.html#returning-a-view-versus-a-copy\n",
      "  file['Refund'].fillna(method='ffill', inplace=True)\n"
     ]
    },
    {
     "data": {
      "text/plain": "CarNumber        0\nMake_n_model     0\nRefund           0\nFines           60\ndtype: int64"
     },
     "execution_count": 299,
     "metadata": {},
     "output_type": "execute_result"
    }
   ],
   "source": [
    "file['Refund'].fillna(method='ffill', inplace=True)\n",
    "file.isnull().sum()"
   ],
   "metadata": {
    "collapsed": false
   }
  },
  {
   "cell_type": "code",
   "execution_count": 300,
   "outputs": [
    {
     "name": "stderr",
     "output_type": "stream",
     "text": [
      "/tmp/ipykernel_136159/3537784457.py:1: SettingWithCopyWarning: \n",
      "A value is trying to be set on a copy of a slice from a DataFrame\n",
      "\n",
      "See the caveats in the documentation: https://pandas.pydata.org/pandas-docs/stable/user_guide/indexing.html#returning-a-view-versus-a-copy\n",
      "  file['Fines'].fillna(value=file['Fines'].mean(), inplace=True)\n"
     ]
    },
    {
     "data": {
      "text/plain": "CarNumber       0\nMake_n_model    0\nRefund          0\nFines           0\ndtype: int64"
     },
     "execution_count": 300,
     "metadata": {},
     "output_type": "execute_result"
    }
   ],
   "source": [
    "file['Fines'].fillna(value=file['Fines'].mean(), inplace=True)\n",
    "file.isnull().sum()"
   ],
   "metadata": {
    "collapsed": false
   }
  },
  {
   "cell_type": "markdown",
   "source": [
    "## split and parse the make and model"
   ],
   "metadata": {
    "collapsed": false
   }
  },
  {
   "cell_type": "markdown",
   "source": [],
   "metadata": {
    "collapsed": false
   }
  },
  {
   "cell_type": "code",
   "execution_count": 301,
   "outputs": [
    {
     "data": {
      "text/plain": "        CarNumber    Make_n_model  Refund         Fines    Make    Model\nID                                                                      \n0    Y163O8161RUS      Ford Focus     2.0   3200.000000    Ford    Focus\n1     E432XX77RUS    Toyota Camry     1.0   6500.000000  Toyota    Camry\n2     7184TT36RUS      Ford Focus     1.0   2100.000000    Ford    Focus\n3    X582HE161RUS      Ford Focus     2.0   2000.000000    Ford    Focus\n5    92918M178RUS      Ford Focus     1.0   5700.000000    Ford    Focus\n..            ...             ...     ...           ...     ...      ...\n926  Y163O8161RUS      Ford Focus     2.0   1600.000000    Ford    Focus\n927  M0309X197RUS      Ford Focus     1.0  22300.000000    Ford    Focus\n928  O673E8197RUS      Ford Focus     2.0    600.000000    Ford    Focus\n929  8610T8154RUS      Ford Focus     1.0   2000.000000    Ford    Focus\n930  H419XE197RUS  Toyota Corolla     2.0   8594.586466  Toyota  Corolla\n\n[725 rows x 6 columns]",
      "text/html": "<div>\n<style scoped>\n    .dataframe tbody tr th:only-of-type {\n        vertical-align: middle;\n    }\n\n    .dataframe tbody tr th {\n        vertical-align: top;\n    }\n\n    .dataframe thead th {\n        text-align: right;\n    }\n</style>\n<table border=\"1\" class=\"dataframe\">\n  <thead>\n    <tr style=\"text-align: right;\">\n      <th></th>\n      <th>CarNumber</th>\n      <th>Make_n_model</th>\n      <th>Refund</th>\n      <th>Fines</th>\n      <th>Make</th>\n      <th>Model</th>\n    </tr>\n    <tr>\n      <th>ID</th>\n      <th></th>\n      <th></th>\n      <th></th>\n      <th></th>\n      <th></th>\n      <th></th>\n    </tr>\n  </thead>\n  <tbody>\n    <tr>\n      <th>0</th>\n      <td>Y163O8161RUS</td>\n      <td>Ford Focus</td>\n      <td>2.0</td>\n      <td>3200.000000</td>\n      <td>Ford</td>\n      <td>Focus</td>\n    </tr>\n    <tr>\n      <th>1</th>\n      <td>E432XX77RUS</td>\n      <td>Toyota Camry</td>\n      <td>1.0</td>\n      <td>6500.000000</td>\n      <td>Toyota</td>\n      <td>Camry</td>\n    </tr>\n    <tr>\n      <th>2</th>\n      <td>7184TT36RUS</td>\n      <td>Ford Focus</td>\n      <td>1.0</td>\n      <td>2100.000000</td>\n      <td>Ford</td>\n      <td>Focus</td>\n    </tr>\n    <tr>\n      <th>3</th>\n      <td>X582HE161RUS</td>\n      <td>Ford Focus</td>\n      <td>2.0</td>\n      <td>2000.000000</td>\n      <td>Ford</td>\n      <td>Focus</td>\n    </tr>\n    <tr>\n      <th>5</th>\n      <td>92918M178RUS</td>\n      <td>Ford Focus</td>\n      <td>1.0</td>\n      <td>5700.000000</td>\n      <td>Ford</td>\n      <td>Focus</td>\n    </tr>\n    <tr>\n      <th>...</th>\n      <td>...</td>\n      <td>...</td>\n      <td>...</td>\n      <td>...</td>\n      <td>...</td>\n      <td>...</td>\n    </tr>\n    <tr>\n      <th>926</th>\n      <td>Y163O8161RUS</td>\n      <td>Ford Focus</td>\n      <td>2.0</td>\n      <td>1600.000000</td>\n      <td>Ford</td>\n      <td>Focus</td>\n    </tr>\n    <tr>\n      <th>927</th>\n      <td>M0309X197RUS</td>\n      <td>Ford Focus</td>\n      <td>1.0</td>\n      <td>22300.000000</td>\n      <td>Ford</td>\n      <td>Focus</td>\n    </tr>\n    <tr>\n      <th>928</th>\n      <td>O673E8197RUS</td>\n      <td>Ford Focus</td>\n      <td>2.0</td>\n      <td>600.000000</td>\n      <td>Ford</td>\n      <td>Focus</td>\n    </tr>\n    <tr>\n      <th>929</th>\n      <td>8610T8154RUS</td>\n      <td>Ford Focus</td>\n      <td>1.0</td>\n      <td>2000.000000</td>\n      <td>Ford</td>\n      <td>Focus</td>\n    </tr>\n    <tr>\n      <th>930</th>\n      <td>H419XE197RUS</td>\n      <td>Toyota Corolla</td>\n      <td>2.0</td>\n      <td>8594.586466</td>\n      <td>Toyota</td>\n      <td>Corolla</td>\n    </tr>\n  </tbody>\n</table>\n<p>725 rows × 6 columns</p>\n</div>"
     },
     "execution_count": 301,
     "metadata": {},
     "output_type": "execute_result"
    }
   ],
   "source": [
    "file['Make']  = file[\"Make_n_model\"].apply(lambda x: x.split()[0])\n",
    "file['Model']  = file[\"Make_n_model\"].apply(lambda x: x.split()[1] if len(x.split()) > 1 else None)\n",
    "file"
   ],
   "metadata": {
    "collapsed": false
   }
  },
  {
   "cell_type": "code",
   "execution_count": 302,
   "outputs": [
    {
     "data": {
      "text/plain": "        CarNumber  Refund         Fines    Make    Model\nID                                                      \n0    Y163O8161RUS     2.0   3200.000000    Ford    Focus\n1     E432XX77RUS     1.0   6500.000000  Toyota    Camry\n2     7184TT36RUS     1.0   2100.000000    Ford    Focus\n3    X582HE161RUS     2.0   2000.000000    Ford    Focus\n5    92918M178RUS     1.0   5700.000000    Ford    Focus\n..            ...     ...           ...     ...      ...\n926  Y163O8161RUS     2.0   1600.000000    Ford    Focus\n927  M0309X197RUS     1.0  22300.000000    Ford    Focus\n928  O673E8197RUS     2.0    600.000000    Ford    Focus\n929  8610T8154RUS     1.0   2000.000000    Ford    Focus\n930  H419XE197RUS     2.0   8594.586466  Toyota  Corolla\n\n[725 rows x 5 columns]",
      "text/html": "<div>\n<style scoped>\n    .dataframe tbody tr th:only-of-type {\n        vertical-align: middle;\n    }\n\n    .dataframe tbody tr th {\n        vertical-align: top;\n    }\n\n    .dataframe thead th {\n        text-align: right;\n    }\n</style>\n<table border=\"1\" class=\"dataframe\">\n  <thead>\n    <tr style=\"text-align: right;\">\n      <th></th>\n      <th>CarNumber</th>\n      <th>Refund</th>\n      <th>Fines</th>\n      <th>Make</th>\n      <th>Model</th>\n    </tr>\n    <tr>\n      <th>ID</th>\n      <th></th>\n      <th></th>\n      <th></th>\n      <th></th>\n      <th></th>\n    </tr>\n  </thead>\n  <tbody>\n    <tr>\n      <th>0</th>\n      <td>Y163O8161RUS</td>\n      <td>2.0</td>\n      <td>3200.000000</td>\n      <td>Ford</td>\n      <td>Focus</td>\n    </tr>\n    <tr>\n      <th>1</th>\n      <td>E432XX77RUS</td>\n      <td>1.0</td>\n      <td>6500.000000</td>\n      <td>Toyota</td>\n      <td>Camry</td>\n    </tr>\n    <tr>\n      <th>2</th>\n      <td>7184TT36RUS</td>\n      <td>1.0</td>\n      <td>2100.000000</td>\n      <td>Ford</td>\n      <td>Focus</td>\n    </tr>\n    <tr>\n      <th>3</th>\n      <td>X582HE161RUS</td>\n      <td>2.0</td>\n      <td>2000.000000</td>\n      <td>Ford</td>\n      <td>Focus</td>\n    </tr>\n    <tr>\n      <th>5</th>\n      <td>92918M178RUS</td>\n      <td>1.0</td>\n      <td>5700.000000</td>\n      <td>Ford</td>\n      <td>Focus</td>\n    </tr>\n    <tr>\n      <th>...</th>\n      <td>...</td>\n      <td>...</td>\n      <td>...</td>\n      <td>...</td>\n      <td>...</td>\n    </tr>\n    <tr>\n      <th>926</th>\n      <td>Y163O8161RUS</td>\n      <td>2.0</td>\n      <td>1600.000000</td>\n      <td>Ford</td>\n      <td>Focus</td>\n    </tr>\n    <tr>\n      <th>927</th>\n      <td>M0309X197RUS</td>\n      <td>1.0</td>\n      <td>22300.000000</td>\n      <td>Ford</td>\n      <td>Focus</td>\n    </tr>\n    <tr>\n      <th>928</th>\n      <td>O673E8197RUS</td>\n      <td>2.0</td>\n      <td>600.000000</td>\n      <td>Ford</td>\n      <td>Focus</td>\n    </tr>\n    <tr>\n      <th>929</th>\n      <td>8610T8154RUS</td>\n      <td>1.0</td>\n      <td>2000.000000</td>\n      <td>Ford</td>\n      <td>Focus</td>\n    </tr>\n    <tr>\n      <th>930</th>\n      <td>H419XE197RUS</td>\n      <td>2.0</td>\n      <td>8594.586466</td>\n      <td>Toyota</td>\n      <td>Corolla</td>\n    </tr>\n  </tbody>\n</table>\n<p>725 rows × 5 columns</p>\n</div>"
     },
     "execution_count": 302,
     "metadata": {},
     "output_type": "execute_result"
    }
   ],
   "source": [
    "file.drop(['Make_n_model'], axis=1, inplace=True)\n",
    "file"
   ],
   "metadata": {
    "collapsed": false
   }
  },
  {
   "cell_type": "code",
   "execution_count": 303,
   "outputs": [],
   "source": [
    "file.to_json(\"../data/auto.json\", orient='records')"
   ],
   "metadata": {
    "collapsed": false
   }
  }
 ],
 "metadata": {
  "kernelspec": {
   "display_name": "Python 3",
   "language": "python",
   "name": "python3"
  },
  "language_info": {
   "codemirror_mode": {
    "name": "ipython",
    "version": 2
   },
   "file_extension": ".py",
   "mimetype": "text/x-python",
   "name": "python",
   "nbconvert_exporter": "python",
   "pygments_lexer": "ipython2",
   "version": "2.7.6"
  }
 },
 "nbformat": 4,
 "nbformat_minor": 0
}
